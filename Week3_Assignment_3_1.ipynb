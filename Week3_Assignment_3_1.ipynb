{
  "nbformat": 4,
  "nbformat_minor": 0,
  "metadata": {
    "colab": {
      "provenance": [],
      "include_colab_link": true
    },
    "kernelspec": {
      "name": "python3",
      "display_name": "Python 3"
    },
    "language_info": {
      "name": "python"
    }
  },
  "cells": [
    {
      "cell_type": "markdown",
      "metadata": {
        "id": "view-in-github",
        "colab_type": "text"
      },
      "source": [
        "<a href=\"https://colab.research.google.com/github/Tdiddydoit/Python-collab/blob/main/Week3_Assignment_3_1.ipynb\" target=\"_parent\"><img src=\"https://colab.research.google.com/assets/colab-badge.svg\" alt=\"Open In Colab\"/></a>"
      ]
    },
    {
      "cell_type": "markdown",
      "source": [
        "Read the dataset using pandas. The dataset will be available in the same folder.\n",
        "After reading the dataset, perform the following exploratory data analysis.\n",
        "\n",
        "Dataset resource:\n",
        "https://www.openintro.org/data/index.php\n",
        "\n",
        "https://www.openintro.org/data/index.php?data=nycflights\n"
      ],
      "metadata": {
        "id": "667vjeJv1xRT"
      }
    },
    {
      "cell_type": "markdown",
      "source": [
        "You can choose to **answer 5 questions** for the assignment. **5 are graded**\n",
        "\n",
        "***Use the rest to test your knowledge***"
      ],
      "metadata": {
        "id": "_Hooi2yOHkU3"
      }
    },
    {
      "cell_type": "markdown",
      "source": [
        "1. How many flights were operated by American Airlines and how many by Delta Airlines ?"
      ],
      "metadata": {
        "id": "8a5x8_yJEhY_"
      }
    },
    {
      "cell_type": "code",
      "source": [
        "#Code here\n",
        "\n",
        "import pandas as pd\n",
        "\n",
        "df = pd.DataFrame()\n",
        "\n",
        "df = pd.read_csv(\"/content/nycflights.csv\")\n",
        "\n",
        "\n",
        "American = df.loc[(df.carrier == 'AA') ]\n",
        "\n",
        "Delta = df.loc[(df.carrier == 'DL')]\n",
        "\n",
        "American_Flight_count = len(American)\n",
        "\n",
        "Delta_Flight_count = len(Delta)\n",
        "\n",
        "print(f\"American operated {American_Flight_count} flights and Delta operated {Delta_Flight_count}\")"
      ],
      "metadata": {
        "id": "o96PlT0mEjBi",
        "colab": {
          "base_uri": "https://localhost:8080/"
        },
        "outputId": "ed03e257-5557-41c9-ec39-89b4ef85607e"
      },
      "execution_count": 44,
      "outputs": [
        {
          "output_type": "stream",
          "name": "stdout",
          "text": [
            "American operated 3188 flights and Delta operated 4751\n"
          ]
        }
      ]
    },
    {
      "cell_type": "markdown",
      "source": [
        "2. Identify the top destinations from each JFK airport."
      ],
      "metadata": {
        "id": "JZqOpQMQEyu3"
      }
    },
    {
      "cell_type": "code",
      "source": [
        "#Code here\n",
        "\n",
        "import pandas as pd\n",
        "\n",
        "df = pd.DataFrame()\n",
        "\n",
        "df = pd.read_csv(\"/content/nycflights.csv\")\n",
        "\n",
        "JFK_Air = df.loc[(df.origin == 'JFK')]\n",
        "JFK_Air\n",
        "\n",
        "Destination_Count = JFK_Air['dest'].value_counts()\n",
        "print(Destination_Count)\n",
        "\n"
      ],
      "metadata": {
        "id": "CnR-xfeYE29t",
        "colab": {
          "base_uri": "https://localhost:8080/"
        },
        "outputId": "e76a71c6-81fd-4bad-bd7d-fcd007781f62"
      },
      "execution_count": 53,
      "outputs": [
        {
          "output_type": "stream",
          "name": "stdout",
          "text": [
            "dest\n",
            "LAX    1115\n",
            "SFO     832\n",
            "BOS     585\n",
            "MCO     529\n",
            "SJU     471\n",
            "       ... \n",
            "MVY      16\n",
            "MKE      15\n",
            "EGE      10\n",
            "SDF       3\n",
            "PSP       2\n",
            "Name: count, Length: 66, dtype: int64\n"
          ]
        }
      ]
    },
    {
      "cell_type": "markdown",
      "source": [
        "3. Count the number of flights departing from each origin airport to different destinations.\n"
      ],
      "metadata": {
        "id": "BmetP3U8FMRc"
      }
    },
    {
      "cell_type": "code",
      "source": [
        "#Code here\n",
        "\n",
        "import pandas as pd\n",
        "\n",
        "df = pd.DataFrame()\n",
        "\n",
        "df = pd.read_csv(\"/content/nycflights.csv\")\n"
      ],
      "metadata": {
        "id": "V66Rj-WwFJ_6"
      },
      "execution_count": null,
      "outputs": []
    },
    {
      "cell_type": "markdown",
      "source": [
        "4. How missing values are there in the column dep_time?\n"
      ],
      "metadata": {
        "id": "zMZ0HfmgFVNT"
      }
    },
    {
      "cell_type": "code",
      "source": [
        "#Code here"
      ],
      "metadata": {
        "id": "uuOnm7j-HPOZ"
      },
      "execution_count": null,
      "outputs": []
    },
    {
      "cell_type": "markdown",
      "source": [
        "5. Identify the airline with the highest average departure delay.\n"
      ],
      "metadata": {
        "id": "GDfrzusyFcKK"
      }
    },
    {
      "cell_type": "code",
      "source": [
        "#Code here"
      ],
      "metadata": {
        "id": "anz3i3ErHQCC"
      },
      "execution_count": null,
      "outputs": []
    },
    {
      "cell_type": "markdown",
      "source": [
        "6. Count the number of flights departing from each origin airport to different destinations.\n"
      ],
      "metadata": {
        "id": "f6clZM7_E5A7"
      }
    },
    {
      "cell_type": "code",
      "source": [
        "#Code here"
      ],
      "metadata": {
        "id": "1qMykSrcHSky"
      },
      "execution_count": null,
      "outputs": []
    },
    {
      "cell_type": "markdown",
      "source": [
        "7. Extract the hour, minutes from the 'DEP_TIME' column and add put it into new column with appropriate names"
      ],
      "metadata": {
        "id": "EYVU1eyTF8FE"
      }
    },
    {
      "cell_type": "code",
      "source": [
        "#Code here"
      ],
      "metadata": {
        "id": "KFrQlL-OHTYF"
      },
      "execution_count": null,
      "outputs": []
    },
    {
      "cell_type": "markdown",
      "source": [
        "8. Plot a histogram to visualize the distribution of departure delays during different times of the day.\n",
        "\n",
        "**Note: dep_delay, arr_delay values are in minutes. Negative times represent early departures/arrivals.**\n",
        "\n",
        "\n",
        "\n",
        "\n"
      ],
      "metadata": {
        "id": "DLMJ0c3eDJDM"
      }
    },
    {
      "cell_type": "code",
      "execution_count": null,
      "metadata": {
        "id": "kNIgK9Gk1p-H"
      },
      "outputs": [],
      "source": [
        "#Code here"
      ]
    }
  ]
}