{
  "nbformat": 4,
  "nbformat_minor": 0,
  "metadata": {
    "colab": {
      "provenance": []
    },
    "kernelspec": {
      "name": "python3",
      "display_name": "Python 3"
    },
    "language_info": {
      "name": "python"
    }
  },
  "cells": [
    {
      "cell_type": "markdown",
      "source": [
        "Write a NumPy program to reshape this 1D array [1 2 3 4 5 6] into a 2D array with 2 rows."
      ],
      "metadata": {
        "id": "kz7jtNtR-HkY"
      }
    },
    {
      "cell_type": "code",
      "execution_count": null,
      "metadata": {
        "id": "JuREvIZ6-MTw",
        "outputId": "74bd5bbb-e183-4eb2-97d3-35c68ba739dc",
        "colab": {
          "base_uri": "https://localhost:8080/"
        }
      },
      "outputs": [
        {
          "output_type": "stream",
          "name": "stdout",
          "text": [
            "[[1 2 3]\n",
            " [4 5 6]]\n"
          ]
        }
      ],
      "source": [
        "# Code here\n",
        "import numpy as np\n",
        "\n",
        "array_1D = np.array([1,2,3,4,5,6])\n",
        "\n",
        "array_2D = array_1D.reshape(2,3)\n",
        "\n",
        "print(array_2D)\n",
        "\n"
      ]
    },
    {
      "cell_type": "markdown",
      "source": [
        "Write a NumPy program to perform matrix multiplication between a 3x3 matrix and a 3x2 matrix"
      ],
      "metadata": {
        "id": "_kKotX90-Ltr"
      }
    },
    {
      "cell_type": "code",
      "execution_count": null,
      "metadata": {
        "id": "KBE4Xatd-Na8",
        "outputId": "9d6a1256-5816-43ac-8659-4c3d6dc23269",
        "colab": {
          "base_uri": "https://localhost:8080/"
        }
      },
      "outputs": [
        {
          "output_type": "stream",
          "name": "stdout",
          "text": [
            "[[30 36 42]\n",
            " [66 81 96]]\n"
          ]
        }
      ],
      "source": [
        "# Code here\n",
        "\n",
        "array_3x3 = np.array([[1,2,3,],[4,5,6],[7,8,9]])\n",
        "\n",
        "array_3x2 = np.array([[1,2,3],[4,5,6]])\n",
        "\n",
        "results = np.dot(array_3x2 , array_3x3)\n",
        "print(results)\n",
        "\n"
      ]
    },
    {
      "cell_type": "markdown",
      "source": [
        "Write a NumPy program to find the most frequent value and the number of times it occured in the array\n",
        "\n",
        "\n",
        "[\n",
        "\n",
        "    [1, 2, 3, 2, 1],\n",
        "    [4, 2, 5, 2, 6],\n",
        "    [2, 1, 2, 3, 2],\n",
        "    [7, 2, 8, 2, 9]  \n",
        " ]"
      ],
      "metadata": {
        "id": "4AaHHXgP-U2H"
      }
    },
    {
      "cell_type": "code",
      "execution_count": null,
      "metadata": {
        "id": "FE8o-YBf-efj",
        "outputId": "732e8096-3623-494c-8212-6f93b347751a",
        "colab": {
          "base_uri": "https://localhost:8080/"
        }
      },
      "outputs": [
        {
          "output_type": "stream",
          "name": "stdout",
          "text": [
            "The most frequent value is 2 and it occurred 9 times.\n"
          ]
        }
      ],
      "source": [
        "# Code here\n",
        "import numpy as np\n",
        "\n",
        "array = np.array = ([[1, 2, 3, 2, 1],[4, 2, 5, 2, 6],[2, 1, 2, 3, 2],[7, 2, 8, 2, 9]])\n",
        "array\n",
        "\n",
        "values, counts = np.unique(array, return_counts=True)\n",
        "most_frequent_value = values[np.argmax(counts)]\n",
        "frequency = counts[np.argmax(counts)]\n",
        "\n",
        "print(f\"The most frequent value is {most_frequent_value} and it occurred {frequency} times.\")"
      ]
    },
    {
      "cell_type": "markdown",
      "source": [
        "Given a NumPy array representing a dataset with missing values, write a program to replace all the missing values (NaNs) with the mean of the respective column.\n",
        "\n",
        "[  [ 1.  2. nan  4.  5.],\n",
        "\n",
        " [ 6. nan  8.  9. 10.],\n",
        "\n",
        " [11. 12. 13. nan 15.],\n",
        "\n",
        " [16. 17. nan 19. 20.],\n",
        "\n",
        " [nan 22. 23. 24. 25.]  ]"
      ],
      "metadata": {
        "id": "_dN47xLJ-jDC"
      }
    },
    {
      "cell_type": "code",
      "execution_count": 72,
      "metadata": {
        "id": "NItipXf4-qX7",
        "outputId": "76c00dd0-c286-4048-e743-957918d4adeb",
        "colab": {
          "base_uri": "https://localhost:8080/"
        }
      },
      "outputs": [
        {
          "output_type": "execute_result",
          "data": {
            "text/plain": [
              "[array([2.4]), array([6.6]), array([10.2]), array([14.4]), array([18.8])]"
            ]
          },
          "metadata": {},
          "execution_count": 72
        }
      ],
      "source": [
        "# Code here\n",
        "import numpy as np\n",
        "\n",
        "nan = 0\n",
        "\n",
        "array = np.array = ([[ 1, 2, nan, 4, 5,],[ 6, nan, 8, 9, 10],[11, 12, 13, nan, 15,],[16, 17, nan, 19, 20],[nan, 22, 23, 24, 25]])\n",
        "\n",
        "nan = np.mean(array, axis = 1)\n",
        "\n",
        "split_nan = np.split(nan,[1,2,3,4])\n",
        "\n",
        "index = 1\n",
        "\n",
        "# new_array = np.insert(array, index, nan, axis=1)\n",
        "\n",
        "split_nan\n"
      ]
    },
    {
      "cell_type": "markdown",
      "source": [
        "Write a program that takes a NumPy array representing a dataset with a column of dates and create a new column extracting the month of each date.\n",
        "\n",
        "np.array([\n",
        "\n",
        "    ('2024-01-15', 10, 100),\n",
        "    ('2024-02-28', 15, 150),\n",
        "    ('2024-03-10', 20, 200),\n",
        "    ('2024-04-22', 25, 250),\n",
        "    ('2024-05-05', 30, 300),\n",
        "    ('2024-06-18', 35, 350),\n",
        "    ('2024-07-30', 40, 400),\n",
        "    ('2024-08-12', 45, 450),\n",
        "    ('2024-09-25', 50, 500),\n",
        "    ('2024-10-07', 55, 550)\n",
        "]"
      ],
      "metadata": {
        "id": "xOZ-z86J-l-q"
      }
    },
    {
      "cell_type": "code",
      "execution_count": null,
      "metadata": {
        "id": "HOzzT0QO-qrM"
      },
      "outputs": [],
      "source": [
        "# Code here"
      ]
    }
  ]
}